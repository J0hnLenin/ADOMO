{
 "cells": [
  {
   "cell_type": "markdown",
   "metadata": {},
   "source": [
    "# Лабораторная работа №1\n",
    "## Вариант 7"
   ]
  },
  {
   "cell_type": "code",
   "execution_count": 1,
   "metadata": {},
   "outputs": [],
   "source": [
    "import pandas as pd\n",
    "import numpy as np"
   ]
  },
  {
   "cell_type": "markdown",
   "metadata": {},
   "source": [
    "## Задача 1"
   ]
  },
  {
   "cell_type": "code",
   "execution_count": 2,
   "metadata": {},
   "outputs": [
    {
     "name": "stdout",
     "output_type": "stream",
     "text": [
      "Серия значений: \n",
      "19    0\n",
      "18    0\n",
      "17    0\n",
      "16    0\n",
      "15    0\n",
      "14    0\n",
      "13    0\n",
      "12    0\n",
      "11    0\n",
      "10    0\n",
      "9     0\n",
      "8     0\n",
      "7     0\n",
      "6     0\n",
      "5     0\n",
      "4     0\n",
      "3     0\n",
      "2     0\n",
      "1     0\n",
      "0     0\n",
      "dtype: int64\n",
      "\n",
      "Длинна: 20\n",
      "Размерность: (20,)\n",
      "Число элементов: 20\n",
      "Тип элементов: <class 'numpy.int64'>\n",
      "Число уникальных значений: 1\n"
     ]
    }
   ],
   "source": [
    "n = 20\n",
    "\n",
    "a = pd.Series([0]*n, [i for i in range(n-1, -1, -1)])\n",
    "print(f\"\"\"Серия значений: \n",
    "{a}\n",
    "\n",
    "Длинна: {len(a)}\n",
    "Размерность: {a.shape}\n",
    "Число элементов: {len(a)}\n",
    "Тип элементов: {type(a[0])}\n",
    "Число уникальных значений: {len(a.unique())}\"\"\")"
   ]
  },
  {
   "cell_type": "markdown",
   "metadata": {},
   "source": [
    "## Задача 2"
   ]
  },
  {
   "cell_type": "code",
   "execution_count": 3,
   "metadata": {},
   "outputs": [
    {
     "data": {
      "text/html": [
       "<div>\n",
       "<style scoped>\n",
       "    .dataframe tbody tr th:only-of-type {\n",
       "        vertical-align: middle;\n",
       "    }\n",
       "\n",
       "    .dataframe tbody tr th {\n",
       "        vertical-align: top;\n",
       "    }\n",
       "\n",
       "    .dataframe thead th {\n",
       "        text-align: right;\n",
       "    }\n",
       "</style>\n",
       "<table border=\"1\" class=\"dataframe\">\n",
       "  <thead>\n",
       "    <tr style=\"text-align: right;\">\n",
       "      <th></th>\n",
       "      <th>area</th>\n",
       "      <th>len</th>\n",
       "      <th>width</th>\n",
       "      <th>asym</th>\n",
       "      <th>class</th>\n",
       "      <th>region_id</th>\n",
       "    </tr>\n",
       "  </thead>\n",
       "  <tbody>\n",
       "    <tr>\n",
       "      <th>0</th>\n",
       "      <td>15.26</td>\n",
       "      <td>5.763</td>\n",
       "      <td>3.312</td>\n",
       "      <td>2.221</td>\n",
       "      <td>Kama</td>\n",
       "      <td>6</td>\n",
       "    </tr>\n",
       "    <tr>\n",
       "      <th>1</th>\n",
       "      <td>14.88</td>\n",
       "      <td>5.554</td>\n",
       "      <td>3.333</td>\n",
       "      <td>1.018</td>\n",
       "      <td>Kama</td>\n",
       "      <td>1</td>\n",
       "    </tr>\n",
       "    <tr>\n",
       "      <th>2</th>\n",
       "      <td>14.29</td>\n",
       "      <td>5.291</td>\n",
       "      <td>3.337</td>\n",
       "      <td>2.699</td>\n",
       "      <td>Kama</td>\n",
       "      <td>10</td>\n",
       "    </tr>\n",
       "    <tr>\n",
       "      <th>3</th>\n",
       "      <td>13.84</td>\n",
       "      <td>5.324</td>\n",
       "      <td>3.379</td>\n",
       "      <td>2.259</td>\n",
       "      <td>Kama</td>\n",
       "      <td>4</td>\n",
       "    </tr>\n",
       "    <tr>\n",
       "      <th>4</th>\n",
       "      <td>16.14</td>\n",
       "      <td>5.658</td>\n",
       "      <td>3.562</td>\n",
       "      <td>1.355</td>\n",
       "      <td>Kama</td>\n",
       "      <td>1</td>\n",
       "    </tr>\n",
       "    <tr>\n",
       "      <th>...</th>\n",
       "      <td>...</td>\n",
       "      <td>...</td>\n",
       "      <td>...</td>\n",
       "      <td>...</td>\n",
       "      <td>...</td>\n",
       "      <td>...</td>\n",
       "    </tr>\n",
       "    <tr>\n",
       "      <th>205</th>\n",
       "      <td>12.19</td>\n",
       "      <td>5.137</td>\n",
       "      <td>2.981</td>\n",
       "      <td>3.631</td>\n",
       "      <td>Canadian</td>\n",
       "      <td>3</td>\n",
       "    </tr>\n",
       "    <tr>\n",
       "      <th>206</th>\n",
       "      <td>11.23</td>\n",
       "      <td>5.140</td>\n",
       "      <td>2.795</td>\n",
       "      <td>4.325</td>\n",
       "      <td>Canadian</td>\n",
       "      <td>4</td>\n",
       "    </tr>\n",
       "    <tr>\n",
       "      <th>207</th>\n",
       "      <td>13.20</td>\n",
       "      <td>5.236</td>\n",
       "      <td>3.232</td>\n",
       "      <td>8.315</td>\n",
       "      <td>Canadian</td>\n",
       "      <td>6</td>\n",
       "    </tr>\n",
       "    <tr>\n",
       "      <th>208</th>\n",
       "      <td>11.84</td>\n",
       "      <td>5.175</td>\n",
       "      <td>2.836</td>\n",
       "      <td>3.598</td>\n",
       "      <td>Canadian</td>\n",
       "      <td>6</td>\n",
       "    </tr>\n",
       "    <tr>\n",
       "      <th>209</th>\n",
       "      <td>12.30</td>\n",
       "      <td>5.243</td>\n",
       "      <td>2.974</td>\n",
       "      <td>5.637</td>\n",
       "      <td>Canadian</td>\n",
       "      <td>1</td>\n",
       "    </tr>\n",
       "  </tbody>\n",
       "</table>\n",
       "<p>210 rows × 6 columns</p>\n",
       "</div>"
      ],
      "text/plain": [
       "      area    len  width   asym     class  region_id\n",
       "0    15.26  5.763  3.312  2.221      Kama          6\n",
       "1    14.88  5.554  3.333  1.018      Kama          1\n",
       "2    14.29  5.291  3.337  2.699      Kama         10\n",
       "3    13.84  5.324  3.379  2.259      Kama          4\n",
       "4    16.14  5.658  3.562  1.355      Kama          1\n",
       "..     ...    ...    ...    ...       ...        ...\n",
       "205  12.19  5.137  2.981  3.631  Canadian          3\n",
       "206  11.23  5.140  2.795  4.325  Canadian          4\n",
       "207  13.20  5.236  3.232  8.315  Canadian          6\n",
       "208  11.84  5.175  2.836  3.598  Canadian          6\n",
       "209  12.30  5.243  2.974  5.637  Canadian          1\n",
       "\n",
       "[210 rows x 6 columns]"
      ]
     },
     "execution_count": 3,
     "metadata": {},
     "output_type": "execute_result"
    }
   ],
   "source": [
    "df = pd.read_csv(\"seeds.csv\")\n",
    "del df[\"compact\"], df[\"grooveLen\"], df[\"perim\"]\n",
    "df\n"
   ]
  },
  {
   "cell_type": "code",
   "execution_count": 4,
   "metadata": {},
   "outputs": [
    {
     "name": "stdout",
     "output_type": "stream",
     "text": [
      "Список колонок: Index(['area', 'len', 'width', 'asym', 'class', 'region_id'], dtype='object')\n",
      "Число строк: 210\n",
      "Размерность: (210, 6)\n",
      "Общее число элементов: 210\n",
      "Есть пустые элементы: False\n",
      "\n",
      "Первые 3 строки:\n",
      "    area    len  width   asym class  region_id\n",
      "0  15.26  5.763  3.312  2.221  Kama          6\n",
      "1  14.88  5.554  3.333  1.018  Kama          1\n",
      "2  14.29  5.291  3.337  2.699  Kama         10\n",
      "\n",
      "Последние 3 строки:\n",
      "      area    len  width   asym     class  region_id\n",
      "207  13.20  5.236  3.232  8.315  Canadian          6\n",
      "208  11.84  5.175  2.836  3.598  Canadian          6\n",
      "209  12.30  5.243  2.974  5.637  Canadian          1\n"
     ]
    }
   ],
   "source": [
    "print(f\"\"\"Список колонок: {df.columns}\n",
    "Число строк: {df.shape[0]}\n",
    "Размерность: {df.shape}\n",
    "Общее число элементов: {len(df)}\n",
    "Есть пустые элементы: {True in df.isnull()}\n",
    "\n",
    "Первые 3 строки:\n",
    "{df.head(3)}\n",
    "\n",
    "Последние 3 строки:\n",
    "{df.tail(3)}\"\"\")"
   ]
  },
  {
   "cell_type": "code",
   "execution_count": 5,
   "metadata": {},
   "outputs": [
    {
     "name": "stdout",
     "output_type": "stream",
     "text": [
      "Колонка: area\n",
      "Тип данных: <class 'numpy.float64'>\n",
      "Число уникальных элементов: 193\n",
      "Максимальный элемент: 21.18\n",
      "Минимальный элемент: 10.59\n",
      "Среднее арифметическое: 14.84752380952381\n",
      "\n",
      "Колонка: len\n",
      "Тип данных: <class 'numpy.float64'>\n",
      "Число уникальных элементов: 188\n",
      "Максимальный элемент: 6.675\n",
      "Минимальный элемент: 4.899\n",
      "Среднее арифметическое: 5.628533333333334\n",
      "\n",
      "Колонка: width\n",
      "Тип данных: <class 'numpy.float64'>\n",
      "Число уникальных элементов: 184\n",
      "Максимальный элемент: 4.033\n",
      "Минимальный элемент: 2.63\n",
      "Среднее арифметическое: 3.258604761904762\n",
      "\n",
      "Колонка: asym\n",
      "Тип данных: <class 'numpy.float64'>\n",
      "Число уникальных элементов: 207\n",
      "Максимальный элемент: 8.456\n",
      "Минимальный элемент: 0.7651\n",
      "Среднее арифметическое: 3.700200952380953\n",
      "\n",
      "Колонка: class\n",
      "Тип данных: <class 'str'>\n",
      "Число уникальных элементов: 3\n",
      "\n",
      "Колонка: region_id\n",
      "Тип данных: <class 'numpy.int64'>\n",
      "Число уникальных элементов: 10\n",
      "\n"
     ]
    }
   ],
   "source": [
    "for col in df.columns:\n",
    "    print(f\"\"\"Колонка: {col}\n",
    "Тип данных: {type(df[col][0])}\n",
    "Число уникальных элементов: {len(df[col].unique())}\"\"\")\n",
    "    if type(df[col][0]) == np.float64:\n",
    "        print(f\"\"\"Максимальный элемент: {df[col].max()}\n",
    "Минимальный элемент: {df[col].min()}\n",
    "Среднее арифметическое: {df[col].mean()}\"\"\")\n",
    "    print()"
   ]
  },
  {
   "cell_type": "markdown",
   "metadata": {},
   "source": [
    "## Задача 3"
   ]
  },
  {
   "cell_type": "code",
   "execution_count": 38,
   "metadata": {},
   "outputs": [
    {
     "name": "stdout",
     "output_type": "stream",
     "text": [
      "\n"
     ]
    },
    {
     "data": {
      "image/png": "[encoded data removed]",
      "text/plain": [
       "<Figure size 640x480 with 1 Axes>"
      ]
     },
     "metadata": {},
     "output_type": "display_data"
    }
   ],
   "source": [
    "from matplotlib import pyplot as plt      \n",
    "%matplotlib inline\n",
    "\n",
    "plt.style.use('dark_background')\n",
    "\n",
    "plt.plot(df['len'], df['area'], '*w')\n",
    "plt.ylabel(\"Площадь\")\n",
    "plt.xlabel(\"Длинна\")\n",
    "plt.title('Зависимость параметров зерна', fontsize=15)\n",
    "plt.grid(True)\n",
    "print()"
   ]
  },
  {
   "cell_type": "markdown",
   "metadata": {},
   "source": [
    "Выбрана точечная диаграмма, так как выборка содержит множество различных значений площади для зерён конкретной длинны."
   ]
  },
  {
   "cell_type": "code",
   "execution_count": 48,
   "metadata": {},
   "outputs": [
    {
     "name": "stdout",
     "output_type": "stream",
     "text": [
      "\n"
     ]
    },
    {
     "data": {
      "image/png": "[encoded data removed]",
      "text/plain": [
       "<Figure size 640x480 with 1 Axes>"
      ]
     },
     "metadata": {},
     "output_type": "display_data"
    }
   ],
   "source": [
    "plt.close()\n",
    "plt.bar(df['class'], df['area'])\n",
    "plt.ylabel(\"Площадь\")\n",
    "plt.xlabel(\"Сорт\")\n",
    "plt.title('Зависимость параметров зерна', fontsize=15)\n",
    "print()"
   ]
  },
  {
   "cell_type": "markdown",
   "metadata": {},
   "source": [
    "Выбрана солбчатая диаграмма, так как по оси абцисс расположен категориальный признак, а по оси ординат - непрерывный"
   ]
  },
  {
   "cell_type": "markdown",
   "metadata": {},
   "source": [
    "## Задача 4"
   ]
  },
  {
   "cell_type": "code",
   "execution_count": 100,
   "metadata": {},
   "outputs": [
    {
     "ename": "KeyError",
     "evalue": "\"None of [Index([18, 21, 20, 21, 18, 16, 20, 19, 19, 22, 18, 28, 24, 25, 23, 24, 26, 25,\\n       24, 21, 18, 18, 21, 21, 19, 19, 20, 20, 21, 19, 23, 23, 18, 18, 20, 19,\\n       20, 18, 21, 19, 19, 19, 20, 20, 19, 20, 15, 16, 21, 21, 21, 21, 21, 21,\\n       21, 22, 24, 24, 26, 28, 26, 15, 16, 17, 21, 19, 21, 22, 33, 21, 19, 22,\\n       21, 35, 29, 21, 19, 21, 18, 19, 21],\\n      dtype='int64')] are in the [columns]\"",
     "output_type": "error",
     "traceback": [
      "\u001b[1;31m---------------------------------------------------------------------------\u001b[0m",
      "\u001b[1;31mKeyError\u001b[0m                                  Traceback (most recent call last)",
      "Cell \u001b[1;32mIn[100], line 13\u001b[0m\n\u001b[0;32m      3\u001b[0m \u001b[38;5;66;03m#sns.kdeplot(df.loc[df['cyl'] == 4, \"cty\"], shade=True, color=\"g\", label=\"Cyl=4\", alpha=.7)\u001b[39;00m\n\u001b[0;32m      4\u001b[0m \u001b[38;5;66;03m#sns.kdeplot(df.loc[df['cyl'] == 5, \"cty\"], shade=True, color=\"deeppink\", label=\"Cyl=5\", alpha=.7)\u001b[39;00m\n\u001b[0;32m      5\u001b[0m \u001b[38;5;66;03m#sns.kdeplot(df.loc[df['cyl'] == 6, \"cty\"], shade=True, color=\"dodgerblue\", label=\"Cyl=6\", alpha=.7)\u001b[39;00m\n\u001b[0;32m      6\u001b[0m \u001b[38;5;66;03m#sns.kdeplot(df.loc[df['cyl'] == 8, \"cty\"], shade=True, color=\"orange\", label=\"Cyl=8\", alpha=.7)\u001b[39;00m\n\u001b[0;32m      7\u001b[0m \n\u001b[0;32m      8\u001b[0m \u001b[38;5;66;03m#plt.stackplot(df.loc[df['cyl'] == 4, \"cty\"])\u001b[39;00m\n\u001b[0;32m      9\u001b[0m fig, ax \u001b[38;5;241m=\u001b[39m plt\u001b[38;5;241m.\u001b[39msubplots()\n\u001b[1;32m---> 13\u001b[0m ax \u001b[38;5;241m=\u001b[39m \u001b[43mdf\u001b[49m\u001b[38;5;241;43m.\u001b[39;49m\u001b[43mplot\u001b[49m\u001b[38;5;241;43m.\u001b[39;49m\u001b[43marea\u001b[49m\u001b[43m(\u001b[49m\u001b[43mdf\u001b[49m\u001b[38;5;241;43m.\u001b[39;49m\u001b[43mloc\u001b[49m\u001b[43m[\u001b[49m\u001b[43mdf\u001b[49m\u001b[43m[\u001b[49m\u001b[38;5;124;43m'\u001b[39;49m\u001b[38;5;124;43mcyl\u001b[39;49m\u001b[38;5;124;43m'\u001b[39;49m\u001b[43m]\u001b[49m\u001b[43m \u001b[49m\u001b[38;5;241;43m==\u001b[39;49m\u001b[43m \u001b[49m\u001b[38;5;241;43m4\u001b[39;49m\u001b[43m,\u001b[49m\u001b[43m \u001b[49m\u001b[38;5;124;43m\"\u001b[39;49m\u001b[38;5;124;43mcty\u001b[39;49m\u001b[38;5;124;43m\"\u001b[39;49m\u001b[43m]\u001b[49m\u001b[43m,\u001b[49m\u001b[43m \u001b[49m\u001b[43mcolor\u001b[49m\u001b[38;5;241;43m=\u001b[39;49m\u001b[38;5;124;43m\"\u001b[39;49m\u001b[38;5;124;43mb\u001b[39;49m\u001b[38;5;124;43m\"\u001b[39;49m\u001b[43m,\u001b[49m\u001b[43m \u001b[49m\u001b[43mlw\u001b[49m\u001b[38;5;241;43m=\u001b[39;49m\u001b[38;5;241;43m3\u001b[39;49m\u001b[43m,\u001b[49m\u001b[43m \u001b[49m\u001b[43malpha\u001b[49m\u001b[43m \u001b[49m\u001b[38;5;241;43m=\u001b[39;49m\u001b[43m \u001b[49m\u001b[38;5;241;43m0.7\u001b[39;49m\u001b[43m)\u001b[49m\n\u001b[0;32m     14\u001b[0m \u001b[38;5;66;03m#ax.plot(df.loc[df['cyl'] == 6, \"cty\"], color=\"r\", lw=3, alpha = 0.7)\u001b[39;00m\n\u001b[0;32m     15\u001b[0m \u001b[38;5;66;03m#ax.plot(df.loc[df['cyl'] == 8, \"cty\"], color=\"g\", lw=3, alpha = 0.7)\u001b[39;00m\n\u001b[0;32m     16\u001b[0m \u001b[38;5;66;03m#ax.fill_between(df.loc[df['cyl'] == 4, \"cty\"], 0, alpha=1)\u001b[39;00m\n\u001b[1;32m   (...)\u001b[0m\n\u001b[0;32m     23\u001b[0m \u001b[38;5;66;03m#plt.legend()\u001b[39;00m\n\u001b[0;32m     24\u001b[0m \u001b[38;5;66;03m#plt.show()\u001b[39;00m\n",
      "File \u001b[1;32mc:\\Users\\John_Lenin\\AppData\\Local\\Programs\\Python\\Python311\\Lib\\site-packages\\pandas\\plotting\\_core.py:1606\u001b[0m, in \u001b[0;36mPlotAccessor.area\u001b[1;34m(self, x, y, stacked, **kwargs)\u001b[0m\n\u001b[0;32m   1529\u001b[0m \u001b[38;5;28;01mdef\u001b[39;00m \u001b[38;5;21marea\u001b[39m(\n\u001b[0;32m   1530\u001b[0m     \u001b[38;5;28mself\u001b[39m,\n\u001b[0;32m   1531\u001b[0m     x: Hashable \u001b[38;5;241m|\u001b[39m \u001b[38;5;28;01mNone\u001b[39;00m \u001b[38;5;241m=\u001b[39m \u001b[38;5;28;01mNone\u001b[39;00m,\n\u001b[1;32m   (...)\u001b[0m\n\u001b[0;32m   1534\u001b[0m     \u001b[38;5;241m*\u001b[39m\u001b[38;5;241m*\u001b[39mkwargs,\n\u001b[0;32m   1535\u001b[0m ) \u001b[38;5;241m-\u001b[39m\u001b[38;5;241m>\u001b[39m PlotAccessor:\n\u001b[0;32m   1536\u001b[0m \u001b[38;5;250m    \u001b[39m\u001b[38;5;124;03m\"\"\"\u001b[39;00m\n\u001b[0;32m   1537\u001b[0m \u001b[38;5;124;03m    Draw a stacked area plot.\u001b[39;00m\n\u001b[0;32m   1538\u001b[0m \n\u001b[1;32m   (...)\u001b[0m\n\u001b[0;32m   1604\u001b[0m \u001b[38;5;124;03m        >>> ax = df.plot.area(x='day')\u001b[39;00m\n\u001b[0;32m   1605\u001b[0m \u001b[38;5;124;03m    \"\"\"\u001b[39;00m\n\u001b[1;32m-> 1606\u001b[0m     \u001b[38;5;28;01mreturn\u001b[39;00m \u001b[38;5;28;43mself\u001b[39;49m\u001b[43m(\u001b[49m\u001b[43mkind\u001b[49m\u001b[38;5;241;43m=\u001b[39;49m\u001b[38;5;124;43m\"\u001b[39;49m\u001b[38;5;124;43marea\u001b[39;49m\u001b[38;5;124;43m\"\u001b[39;49m\u001b[43m,\u001b[49m\u001b[43m \u001b[49m\u001b[43mx\u001b[49m\u001b[38;5;241;43m=\u001b[39;49m\u001b[43mx\u001b[49m\u001b[43m,\u001b[49m\u001b[43m \u001b[49m\u001b[43my\u001b[49m\u001b[38;5;241;43m=\u001b[39;49m\u001b[43my\u001b[49m\u001b[43m,\u001b[49m\u001b[43m \u001b[49m\u001b[43mstacked\u001b[49m\u001b[38;5;241;43m=\u001b[39;49m\u001b[43mstacked\u001b[49m\u001b[43m,\u001b[49m\u001b[43m \u001b[49m\u001b[38;5;241;43m*\u001b[39;49m\u001b[38;5;241;43m*\u001b[39;49m\u001b[43mkwargs\u001b[49m\u001b[43m)\u001b[49m\n",
      "File \u001b[1;32mc:\\Users\\John_Lenin\\AppData\\Local\\Programs\\Python\\Python311\\Lib\\site-packages\\pandas\\plotting\\_core.py:996\u001b[0m, in \u001b[0;36mPlotAccessor.__call__\u001b[1;34m(self, *args, **kwargs)\u001b[0m\n\u001b[0;32m    994\u001b[0m \u001b[38;5;28;01mif\u001b[39;00m is_integer(x) \u001b[38;5;129;01mand\u001b[39;00m \u001b[38;5;129;01mnot\u001b[39;00m data\u001b[38;5;241m.\u001b[39mcolumns\u001b[38;5;241m.\u001b[39m_holds_integer():\n\u001b[0;32m    995\u001b[0m     x \u001b[38;5;241m=\u001b[39m data_cols[x]\n\u001b[1;32m--> 996\u001b[0m \u001b[38;5;28;01melif\u001b[39;00m \u001b[38;5;129;01mnot\u001b[39;00m \u001b[38;5;28misinstance\u001b[39m(\u001b[43mdata\u001b[49m\u001b[43m[\u001b[49m\u001b[43mx\u001b[49m\u001b[43m]\u001b[49m, ABCSeries):\n\u001b[0;32m    997\u001b[0m     \u001b[38;5;28;01mraise\u001b[39;00m \u001b[38;5;167;01mValueError\u001b[39;00m(\u001b[38;5;124m\"\u001b[39m\u001b[38;5;124mx must be a label or position\u001b[39m\u001b[38;5;124m\"\u001b[39m)\n\u001b[0;32m    998\u001b[0m data \u001b[38;5;241m=\u001b[39m data\u001b[38;5;241m.\u001b[39mset_index(x)\n",
      "File \u001b[1;32mc:\\Users\\John_Lenin\\AppData\\Local\\Programs\\Python\\Python311\\Lib\\site-packages\\pandas\\core\\frame.py:3899\u001b[0m, in \u001b[0;36mDataFrame.__getitem__\u001b[1;34m(self, key)\u001b[0m\n\u001b[0;32m   3897\u001b[0m     \u001b[38;5;28;01mif\u001b[39;00m is_iterator(key):\n\u001b[0;32m   3898\u001b[0m         key \u001b[38;5;241m=\u001b[39m \u001b[38;5;28mlist\u001b[39m(key)\n\u001b[1;32m-> 3899\u001b[0m     indexer \u001b[38;5;241m=\u001b[39m \u001b[38;5;28;43mself\u001b[39;49m\u001b[38;5;241;43m.\u001b[39;49m\u001b[43mcolumns\u001b[49m\u001b[38;5;241;43m.\u001b[39;49m\u001b[43m_get_indexer_strict\u001b[49m\u001b[43m(\u001b[49m\u001b[43mkey\u001b[49m\u001b[43m,\u001b[49m\u001b[43m \u001b[49m\u001b[38;5;124;43m\"\u001b[39;49m\u001b[38;5;124;43mcolumns\u001b[39;49m\u001b[38;5;124;43m\"\u001b[39;49m\u001b[43m)\u001b[49m[\u001b[38;5;241m1\u001b[39m]\n\u001b[0;32m   3901\u001b[0m \u001b[38;5;66;03m# take() does not accept boolean indexers\u001b[39;00m\n\u001b[0;32m   3902\u001b[0m \u001b[38;5;28;01mif\u001b[39;00m \u001b[38;5;28mgetattr\u001b[39m(indexer, \u001b[38;5;124m\"\u001b[39m\u001b[38;5;124mdtype\u001b[39m\u001b[38;5;124m\"\u001b[39m, \u001b[38;5;28;01mNone\u001b[39;00m) \u001b[38;5;241m==\u001b[39m \u001b[38;5;28mbool\u001b[39m:\n",
      "File \u001b[1;32mc:\\Users\\John_Lenin\\AppData\\Local\\Programs\\Python\\Python311\\Lib\\site-packages\\pandas\\core\\indexes\\base.py:6115\u001b[0m, in \u001b[0;36mIndex._get_indexer_strict\u001b[1;34m(self, key, axis_name)\u001b[0m\n\u001b[0;32m   6112\u001b[0m \u001b[38;5;28;01melse\u001b[39;00m:\n\u001b[0;32m   6113\u001b[0m     keyarr, indexer, new_indexer \u001b[38;5;241m=\u001b[39m \u001b[38;5;28mself\u001b[39m\u001b[38;5;241m.\u001b[39m_reindex_non_unique(keyarr)\n\u001b[1;32m-> 6115\u001b[0m \u001b[38;5;28;43mself\u001b[39;49m\u001b[38;5;241;43m.\u001b[39;49m\u001b[43m_raise_if_missing\u001b[49m\u001b[43m(\u001b[49m\u001b[43mkeyarr\u001b[49m\u001b[43m,\u001b[49m\u001b[43m \u001b[49m\u001b[43mindexer\u001b[49m\u001b[43m,\u001b[49m\u001b[43m \u001b[49m\u001b[43maxis_name\u001b[49m\u001b[43m)\u001b[49m\n\u001b[0;32m   6117\u001b[0m keyarr \u001b[38;5;241m=\u001b[39m \u001b[38;5;28mself\u001b[39m\u001b[38;5;241m.\u001b[39mtake(indexer)\n\u001b[0;32m   6118\u001b[0m \u001b[38;5;28;01mif\u001b[39;00m \u001b[38;5;28misinstance\u001b[39m(key, Index):\n\u001b[0;32m   6119\u001b[0m     \u001b[38;5;66;03m# GH 42790 - Preserve name from an Index\u001b[39;00m\n",
      "File \u001b[1;32mc:\\Users\\John_Lenin\\AppData\\Local\\Programs\\Python\\Python311\\Lib\\site-packages\\pandas\\core\\indexes\\base.py:6176\u001b[0m, in \u001b[0;36mIndex._raise_if_missing\u001b[1;34m(self, key, indexer, axis_name)\u001b[0m\n\u001b[0;32m   6174\u001b[0m     \u001b[38;5;28;01mif\u001b[39;00m use_interval_msg:\n\u001b[0;32m   6175\u001b[0m         key \u001b[38;5;241m=\u001b[39m \u001b[38;5;28mlist\u001b[39m(key)\n\u001b[1;32m-> 6176\u001b[0m     \u001b[38;5;28;01mraise\u001b[39;00m \u001b[38;5;167;01mKeyError\u001b[39;00m(\u001b[38;5;124mf\u001b[39m\u001b[38;5;124m\"\u001b[39m\u001b[38;5;124mNone of [\u001b[39m\u001b[38;5;132;01m{\u001b[39;00mkey\u001b[38;5;132;01m}\u001b[39;00m\u001b[38;5;124m] are in the [\u001b[39m\u001b[38;5;132;01m{\u001b[39;00maxis_name\u001b[38;5;132;01m}\u001b[39;00m\u001b[38;5;124m]\u001b[39m\u001b[38;5;124m\"\u001b[39m)\n\u001b[0;32m   6178\u001b[0m not_found \u001b[38;5;241m=\u001b[39m \u001b[38;5;28mlist\u001b[39m(ensure_index(key)[missing_mask\u001b[38;5;241m.\u001b[39mnonzero()[\u001b[38;5;241m0\u001b[39m]]\u001b[38;5;241m.\u001b[39munique())\n\u001b[0;32m   6179\u001b[0m \u001b[38;5;28;01mraise\u001b[39;00m \u001b[38;5;167;01mKeyError\u001b[39;00m(\u001b[38;5;124mf\u001b[39m\u001b[38;5;124m\"\u001b[39m\u001b[38;5;132;01m{\u001b[39;00mnot_found\u001b[38;5;132;01m}\u001b[39;00m\u001b[38;5;124m not in index\u001b[39m\u001b[38;5;124m\"\u001b[39m)\n",
      "\u001b[1;31mKeyError\u001b[0m: \"None of [Index([18, 21, 20, 21, 18, 16, 20, 19, 19, 22, 18, 28, 24, 25, 23, 24, 26, 25,\\n       24, 21, 18, 18, 21, 21, 19, 19, 20, 20, 21, 19, 23, 23, 18, 18, 20, 19,\\n       20, 18, 21, 19, 19, 19, 20, 20, 19, 20, 15, 16, 21, 21, 21, 21, 21, 21,\\n       21, 22, 24, 24, 26, 28, 26, 15, 16, 17, 21, 19, 21, 22, 33, 21, 19, 22,\\n       21, 35, 29, 21, 19, 21, 18, 19, 21],\\n      dtype='int64')] are in the [columns]\""
     ]
    },
    {
     "data": {
      "image/png": "[encoded data removed]",
      "text/plain": [
       "<Figure size 640x480 with 1 Axes>"
      ]
     },
     "metadata": {},
     "output_type": "display_data"
    }
   ],
   "source": [
    "\n",
    "df = pd.read_csv(\"https://github.com/selva86/datasets/raw/master/mpg_ggplot2.csv\")\n",
    "\n",
    "#sns.kdeplot(df.loc[df['cyl'] == 4, \"cty\"], shade=True, color=\"g\", label=\"Cyl=4\", alpha=.7)\n",
    "#sns.kdeplot(df.loc[df['cyl'] == 5, \"cty\"], shade=True, color=\"deeppink\", label=\"Cyl=5\", alpha=.7)\n",
    "#sns.kdeplot(df.loc[df['cyl'] == 6, \"cty\"], shade=True, color=\"dodgerblue\", label=\"Cyl=6\", alpha=.7)\n",
    "#sns.kdeplot(df.loc[df['cyl'] == 8, \"cty\"], shade=True, color=\"orange\", label=\"Cyl=8\", alpha=.7)\n",
    "\n",
    "#plt.stackplot(df.loc[df['cyl'] == 4, \"cty\"])\n",
    "fig, ax = plt.subplots()\n",
    "\n",
    "ax = df.plot.area(df.loc[df['cyl'] == 4, \"cty\"], color=\"b\", lw=3, alpha = 0.7)\n",
    "\n",
    "#ax.plot(df.loc[df['cyl'] == 6, \"cty\"], color=\"r\", lw=3, alpha = 0.7)\n",
    "#ax.plot(df.loc[df['cyl'] == 8, \"cty\"], color=\"g\", lw=3, alpha = 0.7)\n",
    "#ax.fill_between(df.loc[df['cyl'] == 4, \"cty\"], 0, alpha=1)\n",
    "#ax.set(xlim=(0, len(x) - 1), ylim=(0, None), xticks=x)\n",
    "\n",
    "\n",
    "\n",
    "# Decoration\n",
    "#plt.title('Density Plot of City Mileage by n_Cylinders', fontsize=22)\n",
    "#plt.legend()\n",
    "#plt.show()\n"
   ]
  },
  {
   "cell_type": "markdown",
   "metadata": {},
   "source": []
  }
 ],
 "metadata": {
  "kernelspec": {
   "display_name": "Python 3",
   "language": "python",
   "name": "python3"
  },
  "language_info": {
   "codemirror_mode": {
    "name": "ipython",
    "version": 3
   },
   "file_extension": ".py",
   "mimetype": "text/x-python",
   "name": "python",
   "nbconvert_exporter": "python",
   "pygments_lexer": "ipython3",
   "version": "3.11.1"
  }
 },
 "nbformat": 4,
 "nbformat_minor": 2
}
